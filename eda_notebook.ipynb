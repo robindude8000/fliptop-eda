{
 "cells": [
  {
   "cell_type": "markdown",
   "id": "704e576c",
   "metadata": {},
   "source": [
    "### Access the data"
   ]
  },
  {
   "cell_type": "code",
   "execution_count": 263,
   "id": "22508ab2",
   "metadata": {},
   "outputs": [
    {
     "data": {
      "text/plain": [
       "(1748, 7)"
      ]
     },
     "execution_count": 263,
     "metadata": {},
     "output_type": "execute_result"
    }
   ],
   "source": [
    "import pandas as pd\n",
    "\n",
    "# Load the dataset as pd\n",
    "df = pd.read_csv(\"./dataset/fliptop_videos.csv\")\n",
    "df.shape\n"
   ]
  },
  {
   "cell_type": "markdown",
   "id": "779e7ba7",
   "metadata": {},
   "source": [
    "### Understand the Structure"
   ]
  },
  {
   "cell_type": "code",
   "execution_count": 264,
   "id": "00e6ad53",
   "metadata": {},
   "outputs": [
    {
     "data": {
      "text/html": [
       "<div>\n",
       "<style scoped>\n",
       "    .dataframe tbody tr th:only-of-type {\n",
       "        vertical-align: middle;\n",
       "    }\n",
       "\n",
       "    .dataframe tbody tr th {\n",
       "        vertical-align: top;\n",
       "    }\n",
       "\n",
       "    .dataframe thead th {\n",
       "        text-align: right;\n",
       "    }\n",
       "</style>\n",
       "<table border=\"1\" class=\"dataframe\">\n",
       "  <thead>\n",
       "    <tr style=\"text-align: right;\">\n",
       "      <th></th>\n",
       "      <th>view_count</th>\n",
       "      <th>like_count</th>\n",
       "      <th>comment_count</th>\n",
       "    </tr>\n",
       "  </thead>\n",
       "  <tbody>\n",
       "    <tr>\n",
       "      <th>count</th>\n",
       "      <td>1.748000e+03</td>\n",
       "      <td>1748.00000</td>\n",
       "      <td>1748.000000</td>\n",
       "    </tr>\n",
       "    <tr>\n",
       "      <th>mean</th>\n",
       "      <td>1.542244e+06</td>\n",
       "      <td>11369.23341</td>\n",
       "      <td>1952.402174</td>\n",
       "    </tr>\n",
       "    <tr>\n",
       "      <th>std</th>\n",
       "      <td>3.956757e+06</td>\n",
       "      <td>29366.72784</td>\n",
       "      <td>3907.400216</td>\n",
       "    </tr>\n",
       "    <tr>\n",
       "      <th>min</th>\n",
       "      <td>5.375000e+03</td>\n",
       "      <td>0.00000</td>\n",
       "      <td>0.000000</td>\n",
       "    </tr>\n",
       "    <tr>\n",
       "      <th>25%</th>\n",
       "      <td>1.203922e+05</td>\n",
       "      <td>732.25000</td>\n",
       "      <td>241.000000</td>\n",
       "    </tr>\n",
       "    <tr>\n",
       "      <th>50%</th>\n",
       "      <td>4.089450e+05</td>\n",
       "      <td>2633.50000</td>\n",
       "      <td>754.000000</td>\n",
       "    </tr>\n",
       "    <tr>\n",
       "      <th>75%</th>\n",
       "      <td>1.274661e+06</td>\n",
       "      <td>10994.75000</td>\n",
       "      <td>2119.750000</td>\n",
       "    </tr>\n",
       "    <tr>\n",
       "      <th>max</th>\n",
       "      <td>5.918583e+07</td>\n",
       "      <td>549488.00000</td>\n",
       "      <td>77144.000000</td>\n",
       "    </tr>\n",
       "  </tbody>\n",
       "</table>\n",
       "</div>"
      ],
      "text/plain": [
       "         view_count    like_count  comment_count\n",
       "count  1.748000e+03    1748.00000    1748.000000\n",
       "mean   1.542244e+06   11369.23341    1952.402174\n",
       "std    3.956757e+06   29366.72784    3907.400216\n",
       "min    5.375000e+03       0.00000       0.000000\n",
       "25%    1.203922e+05     732.25000     241.000000\n",
       "50%    4.089450e+05    2633.50000     754.000000\n",
       "75%    1.274661e+06   10994.75000    2119.750000\n",
       "max    5.918583e+07  549488.00000   77144.000000"
      ]
     },
     "execution_count": 264,
     "metadata": {},
     "output_type": "execute_result"
    }
   ],
   "source": [
    "# df.head()\n",
    "# df.info()\n",
    "df.describe()\n",
    "# df.dtypes"
   ]
  },
  {
   "cell_type": "markdown",
   "id": "8e7b2848",
   "metadata": {},
   "source": [
    "### Assess Data Quality"
   ]
  },
  {
   "cell_type": "code",
   "execution_count": 265,
   "id": "2f93b5ac",
   "metadata": {},
   "outputs": [
    {
     "data": {
      "text/html": [
       "<div>\n",
       "<style scoped>\n",
       "    .dataframe tbody tr th:only-of-type {\n",
       "        vertical-align: middle;\n",
       "    }\n",
       "\n",
       "    .dataframe tbody tr th {\n",
       "        vertical-align: top;\n",
       "    }\n",
       "\n",
       "    .dataframe thead th {\n",
       "        text-align: right;\n",
       "    }\n",
       "</style>\n",
       "<table border=\"1\" class=\"dataframe\">\n",
       "  <thead>\n",
       "    <tr style=\"text-align: right;\">\n",
       "      <th></th>\n",
       "      <th>video_id</th>\n",
       "      <th>title</th>\n",
       "      <th>description</th>\n",
       "      <th>published_at</th>\n",
       "      <th>view_count</th>\n",
       "      <th>like_count</th>\n",
       "      <th>comment_count</th>\n",
       "    </tr>\n",
       "  </thead>\n",
       "  <tbody>\n",
       "  </tbody>\n",
       "</table>\n",
       "</div>"
      ],
      "text/plain": [
       "Empty DataFrame\n",
       "Columns: [video_id, title, description, published_at, view_count, like_count, comment_count]\n",
       "Index: []"
      ]
     },
     "execution_count": 265,
     "metadata": {},
     "output_type": "execute_result"
    }
   ],
   "source": [
    "# check for null records\n",
    "df.isnull().sum()\n",
    "df[df[\"description\"].isnull()]\n",
    "\n",
    "# check for duplicate observations\n",
    "df.duplicated()\n",
    "df[df.duplicated()]"
   ]
  },
  {
   "cell_type": "markdown",
   "id": "b182d6da",
   "metadata": {},
   "source": [
    "### Filter out non-battle titles/videos"
   ]
  },
  {
   "cell_type": "code",
   "execution_count": 266,
   "id": "0fda49bb",
   "metadata": {},
   "outputs": [
    {
     "data": {
      "text/html": [
       "<div>\n",
       "<style scoped>\n",
       "    .dataframe tbody tr th:only-of-type {\n",
       "        vertical-align: middle;\n",
       "    }\n",
       "\n",
       "    .dataframe tbody tr th {\n",
       "        vertical-align: top;\n",
       "    }\n",
       "\n",
       "    .dataframe thead th {\n",
       "        text-align: right;\n",
       "    }\n",
       "</style>\n",
       "<table border=\"1\" class=\"dataframe\">\n",
       "  <thead>\n",
       "    <tr style=\"text-align: right;\">\n",
       "      <th></th>\n",
       "      <th>title</th>\n",
       "      <th>published_at</th>\n",
       "      <th>view_count</th>\n",
       "      <th>like_count</th>\n",
       "      <th>comment_count</th>\n",
       "    </tr>\n",
       "  </thead>\n",
       "  <tbody>\n",
       "    <tr>\n",
       "      <th>4</th>\n",
       "      <td>FlipTop - Negho Gy vs Hespero</td>\n",
       "      <td>2025-06-25T12:44:16Z</td>\n",
       "      <td>322865</td>\n",
       "      <td>4561</td>\n",
       "      <td>756</td>\n",
       "    </tr>\n",
       "    <tr>\n",
       "      <th>6</th>\n",
       "      <td>FlipTop - Ruffian vs JDee</td>\n",
       "      <td>2025-06-21T12:23:04Z</td>\n",
       "      <td>607827</td>\n",
       "      <td>12438</td>\n",
       "      <td>2161</td>\n",
       "    </tr>\n",
       "    <tr>\n",
       "      <th>10</th>\n",
       "      <td>FlipTop - Katana vs 3rdy @ Isabuhay 2025</td>\n",
       "      <td>2025-06-14T12:14:27Z</td>\n",
       "      <td>1035763</td>\n",
       "      <td>15851</td>\n",
       "      <td>3838</td>\n",
       "    </tr>\n",
       "  </tbody>\n",
       "</table>\n",
       "</div>"
      ],
      "text/plain": [
       "                                       title          published_at  \\\n",
       "4              FlipTop - Negho Gy vs Hespero  2025-06-25T12:44:16Z   \n",
       "6                  FlipTop - Ruffian vs JDee  2025-06-21T12:23:04Z   \n",
       "10  FlipTop - Katana vs 3rdy @ Isabuhay 2025  2025-06-14T12:14:27Z   \n",
       "\n",
       "    view_count  like_count  comment_count  \n",
       "4       322865        4561            756  \n",
       "6       607827       12438           2161  \n",
       "10     1035763       15851           3838  "
      ]
     },
     "execution_count": 266,
     "metadata": {},
     "output_type": "execute_result"
    }
   ],
   "source": [
    "# filter titles with \"vs\" substring\n",
    "df = df[df[\"title\"].str.contains(\"vs\", case=True)]\n",
    "df = df[df[\"title\"].str.startswith(\"FlipTop - \")]\n",
    "df = df.drop([\"video_id\", \"description\"], axis=1) # remove video_id column\n",
    "df.head(3)"
   ]
  },
  {
   "cell_type": "markdown",
   "id": "8cb14794",
   "metadata": {},
   "source": [
    "### Removing also Royal Rumbles"
   ]
  },
  {
   "cell_type": "code",
   "execution_count": 267,
   "id": "7ecdd668",
   "metadata": {},
   "outputs": [],
   "source": [
    "df = df[~df[\"title\"].str.contains(\"royal rumble\", case=False)]\n",
    "df = df[~df[\"title\"].str.contains(\"Shernan vs M Zhayt vs Pistolero vs Lhipkram vs Romano\", case=False)]\n",
    "df = df[~df[\"title\"].str.contains(\"5 on 5 Battle\", case=False)]"
   ]
  },
  {
   "cell_type": "markdown",
   "id": "b9ecb30c",
   "metadata": {},
   "source": [
    "### Transform \"published_at\" and add Date Fields"
   ]
  },
  {
   "cell_type": "code",
   "execution_count": 268,
   "id": "c7331ae9",
   "metadata": {},
   "outputs": [
    {
     "data": {
      "text/html": [
       "<div>\n",
       "<style scoped>\n",
       "    .dataframe tbody tr th:only-of-type {\n",
       "        vertical-align: middle;\n",
       "    }\n",
       "\n",
       "    .dataframe tbody tr th {\n",
       "        vertical-align: top;\n",
       "    }\n",
       "\n",
       "    .dataframe thead th {\n",
       "        text-align: right;\n",
       "    }\n",
       "</style>\n",
       "<table border=\"1\" class=\"dataframe\">\n",
       "  <thead>\n",
       "    <tr style=\"text-align: right;\">\n",
       "      <th></th>\n",
       "      <th>title</th>\n",
       "      <th>view_count</th>\n",
       "      <th>like_count</th>\n",
       "      <th>comment_count</th>\n",
       "      <th>date</th>\n",
       "      <th>year</th>\n",
       "      <th>month</th>\n",
       "      <th>week</th>\n",
       "    </tr>\n",
       "  </thead>\n",
       "  <tbody>\n",
       "    <tr>\n",
       "      <th>4</th>\n",
       "      <td>FlipTop - Negho Gy vs Hespero</td>\n",
       "      <td>322865</td>\n",
       "      <td>4561</td>\n",
       "      <td>756</td>\n",
       "      <td>2025-06-25</td>\n",
       "      <td>2025</td>\n",
       "      <td>6</td>\n",
       "      <td>26</td>\n",
       "    </tr>\n",
       "    <tr>\n",
       "      <th>6</th>\n",
       "      <td>FlipTop - Ruffian vs JDee</td>\n",
       "      <td>607827</td>\n",
       "      <td>12438</td>\n",
       "      <td>2161</td>\n",
       "      <td>2025-06-21</td>\n",
       "      <td>2025</td>\n",
       "      <td>6</td>\n",
       "      <td>25</td>\n",
       "    </tr>\n",
       "    <tr>\n",
       "      <th>10</th>\n",
       "      <td>FlipTop - Katana vs 3rdy @ Isabuhay 2025</td>\n",
       "      <td>1035763</td>\n",
       "      <td>15851</td>\n",
       "      <td>3838</td>\n",
       "      <td>2025-06-14</td>\n",
       "      <td>2025</td>\n",
       "      <td>6</td>\n",
       "      <td>24</td>\n",
       "    </tr>\n",
       "  </tbody>\n",
       "</table>\n",
       "</div>"
      ],
      "text/plain": [
       "                                       title  view_count  like_count  \\\n",
       "4              FlipTop - Negho Gy vs Hespero      322865        4561   \n",
       "6                  FlipTop - Ruffian vs JDee      607827       12438   \n",
       "10  FlipTop - Katana vs 3rdy @ Isabuhay 2025     1035763       15851   \n",
       "\n",
       "    comment_count        date  year  month  week  \n",
       "4             756  2025-06-25  2025      6    26  \n",
       "6            2161  2025-06-21  2025      6    25  \n",
       "10           3838  2025-06-14  2025      6    24  "
      ]
     },
     "execution_count": 268,
     "metadata": {},
     "output_type": "execute_result"
    }
   ],
   "source": [
    "df[\"published_at\"] = pd.to_datetime(df[\"published_at\"])\n",
    "df[\"date\"] = df[\"published_at\"].dt.date\n",
    "df[\"year\"] = df[\"published_at\"].dt.year\n",
    "df[\"month\"] = df[\"published_at\"].dt.month\n",
    "df[\"week\"] = df[\"published_at\"].dt.isocalendar().week\n",
    "\n",
    "df = df.drop(\"published_at\", axis=1)\n",
    "df.head(3)"
   ]
  },
  {
   "cell_type": "markdown",
   "id": "9bc79eeb",
   "metadata": {},
   "source": [
    "### Extract Emcee Name in the Title column"
   ]
  },
  {
   "cell_type": "code",
   "execution_count": 269,
   "id": "bcba8502",
   "metadata": {},
   "outputs": [
    {
     "data": {
      "text/html": [
       "<div>\n",
       "<style scoped>\n",
       "    .dataframe tbody tr th:only-of-type {\n",
       "        vertical-align: middle;\n",
       "    }\n",
       "\n",
       "    .dataframe tbody tr th {\n",
       "        vertical-align: top;\n",
       "    }\n",
       "\n",
       "    .dataframe thead th {\n",
       "        text-align: right;\n",
       "    }\n",
       "</style>\n",
       "<table border=\"1\" class=\"dataframe\">\n",
       "  <thead>\n",
       "    <tr style=\"text-align: right;\">\n",
       "      <th></th>\n",
       "      <th>title</th>\n",
       "      <th>view_count</th>\n",
       "      <th>like_count</th>\n",
       "      <th>comment_count</th>\n",
       "      <th>date</th>\n",
       "      <th>year</th>\n",
       "      <th>month</th>\n",
       "      <th>week</th>\n",
       "      <th>emcee_1</th>\n",
       "      <th>emcee_2</th>\n",
       "    </tr>\n",
       "  </thead>\n",
       "  <tbody>\n",
       "    <tr>\n",
       "      <th>1373</th>\n",
       "      <td>FlipTop - Rudic vs Hizuka</td>\n",
       "      <td>106895</td>\n",
       "      <td>181</td>\n",
       "      <td>91</td>\n",
       "      <td>2014-01-16</td>\n",
       "      <td>2014</td>\n",
       "      <td>1</td>\n",
       "      <td>3</td>\n",
       "      <td>Rudic</td>\n",
       "      <td>Hizuka</td>\n",
       "    </tr>\n",
       "    <tr>\n",
       "      <th>802</th>\n",
       "      <td>FlipTop - Climax vs Gustav</td>\n",
       "      <td>99564</td>\n",
       "      <td>832</td>\n",
       "      <td>271</td>\n",
       "      <td>2019-06-21</td>\n",
       "      <td>2019</td>\n",
       "      <td>6</td>\n",
       "      <td>25</td>\n",
       "      <td>Climax</td>\n",
       "      <td>Gustav</td>\n",
       "    </tr>\n",
       "    <tr>\n",
       "      <th>1165</th>\n",
       "      <td>FlipTop - EJ Power vs El Quiel</td>\n",
       "      <td>409815</td>\n",
       "      <td>1729</td>\n",
       "      <td>374</td>\n",
       "      <td>2016-04-13</td>\n",
       "      <td>2016</td>\n",
       "      <td>4</td>\n",
       "      <td>15</td>\n",
       "      <td>EJ Power</td>\n",
       "      <td>El Quiel</td>\n",
       "    </tr>\n",
       "    <tr>\n",
       "      <th>1348</th>\n",
       "      <td>FlipTop - Thike vs Ejo</td>\n",
       "      <td>128361</td>\n",
       "      <td>289</td>\n",
       "      <td>124</td>\n",
       "      <td>2014-04-06</td>\n",
       "      <td>2014</td>\n",
       "      <td>4</td>\n",
       "      <td>14</td>\n",
       "      <td>Thike</td>\n",
       "      <td>Ejo</td>\n",
       "    </tr>\n",
       "    <tr>\n",
       "      <th>603</th>\n",
       "      <td>FlipTop - Batas vs J-King @ Isabuhay 2020 | Qu...</td>\n",
       "      <td>1322170</td>\n",
       "      <td>24391</td>\n",
       "      <td>2705</td>\n",
       "      <td>2020-09-05</td>\n",
       "      <td>2020</td>\n",
       "      <td>9</td>\n",
       "      <td>36</td>\n",
       "      <td>Batas</td>\n",
       "      <td>J-King</td>\n",
       "    </tr>\n",
       "  </tbody>\n",
       "</table>\n",
       "</div>"
      ],
      "text/plain": [
       "                                                  title  view_count  \\\n",
       "1373                          FlipTop - Rudic vs Hizuka      106895   \n",
       "802                          FlipTop - Climax vs Gustav       99564   \n",
       "1165                     FlipTop - EJ Power vs El Quiel      409815   \n",
       "1348                             FlipTop - Thike vs Ejo      128361   \n",
       "603   FlipTop - Batas vs J-King @ Isabuhay 2020 | Qu...     1322170   \n",
       "\n",
       "      like_count  comment_count        date  year  month  week   emcee_1  \\\n",
       "1373         181             91  2014-01-16  2014      1     3     Rudic   \n",
       "802          832            271  2019-06-21  2019      6    25    Climax   \n",
       "1165        1729            374  2016-04-13  2016      4    15  EJ Power   \n",
       "1348         289            124  2014-04-06  2014      4    14     Thike   \n",
       "603        24391           2705  2020-09-05  2020      9    36     Batas   \n",
       "\n",
       "       emcee_2  \n",
       "1373    Hizuka  \n",
       "802     Gustav  \n",
       "1165  El Quiel  \n",
       "1348       Ejo  \n",
       "603     J-King  "
      ]
     },
     "execution_count": 269,
     "metadata": {},
     "output_type": "execute_result"
    }
   ],
   "source": [
    "# using regular expression for extracting emcee names\n",
    "\n",
    "df['emcee_1'] = df['title'].str.extract(r'FlipTop - (.*?) vs ')\n",
    "df['emcee_2'] = df['title'].str.extract(r' vs (.*?)(?: @| -| \\||\\*| pt\\.| \\(|$)')\n",
    "\n",
    "df.sample(5)\n",
    "\n",
    "# df.loc[[1400,620,1234,1736]]"
   ]
  },
  {
   "cell_type": "markdown",
   "id": "556942ef",
   "metadata": {},
   "source": [
    "### Duplicating the data\n",
    "##### Each emcee is considered contributor to the battle's performance metrics (views, likes, comments, etc). "
   ]
  },
  {
   "cell_type": "code",
   "execution_count": 270,
   "id": "b083840a",
   "metadata": {},
   "outputs": [],
   "source": [
    "df1 = df[[\"emcee_1\", \"view_count\", \"like_count\", \"comment_count\", \"date\", \"year\", \"month\", \"week\"]].rename(columns={\"emcee_1\": \"emcee_name\"})\n",
    "df2 = df[[\"emcee_2\", \"view_count\", \"like_count\", \"comment_count\", \"date\", \"year\", \"month\", \"week\"]].rename(columns={\"emcee_2\": \"emcee_name\"})\n",
    "df_full = pd.concat([df1, df2], ignore_index=True)\n"
   ]
  },
  {
   "cell_type": "code",
   "execution_count": 271,
   "id": "735be6bf",
   "metadata": {},
   "outputs": [],
   "source": [
    "# save data for manual validation\n",
    "df_full.to_csv(\"dataset/test_file.csv\", index=False, encoding=\"utf-8\")"
   ]
  },
  {
   "cell_type": "markdown",
   "id": "2d0a55c8",
   "metadata": {},
   "source": [
    "### Exploratory Data Analysis"
   ]
  },
  {
   "cell_type": "code",
   "execution_count": null,
   "id": "e03ee0a0",
   "metadata": {},
   "outputs": [],
   "source": []
  }
 ],
 "metadata": {
  "kernelspec": {
   "display_name": ".venv",
   "language": "python",
   "name": "python3"
  },
  "language_info": {
   "codemirror_mode": {
    "name": "ipython",
    "version": 3
   },
   "file_extension": ".py",
   "mimetype": "text/x-python",
   "name": "python",
   "nbconvert_exporter": "python",
   "pygments_lexer": "ipython3",
   "version": "3.13.5"
  }
 },
 "nbformat": 4,
 "nbformat_minor": 5
}
